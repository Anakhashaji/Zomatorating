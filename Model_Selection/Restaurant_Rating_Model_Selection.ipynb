{
  "cells": [
    {
      "cell_type": "markdown",
      "metadata": {
        "id": "lJxrceWRs8qU"
      },
      "source": [
        "### pre-processing"
      ]
    },
    {
      "cell_type": "code",
      "execution_count": 1,
      "metadata": {
        "id": "Xdw_A5FY7vl7"
      },
      "outputs": [],
      "source": [
        "import pandas as pd\n",
        "import matplotlib.pyplot as plt \n",
        "import seaborn as sns\n",
        "import numpy as np\n",
        "from sklearn.preprocessing import MinMaxScaler"
      ]
    },
    {
      "cell_type": "code",
      "execution_count": 2,
      "metadata": {
        "id": "mD0wBik88KwL"
      },
      "outputs": [],
      "source": [
        "train_df = pd.read_csv(\"train.csv\")\n",
        "test_df = pd.read_csv(\"test.csv\")"
      ]
    },
    {
      "cell_type": "markdown",
      "metadata": {
        "id": "AJx0cPbkKEYU"
      },
      "source": [
        "* loading the pre-processed datasets"
      ]
    },
    {
      "cell_type": "code",
      "execution_count": 3,
      "metadata": {
        "colab": {
          "base_uri": "https://localhost:8080/",
          "height": 206
        },
        "id": "S-AK1xB_8rNk",
        "outputId": "4183358e-c6cf-4dda-9215-4938be406d0d"
      },
      "outputs": [
        {
          "data": {
            "text/html": [
              "<div>\n",
              "<style scoped>\n",
              "    .dataframe tbody tr th:only-of-type {\n",
              "        vertical-align: middle;\n",
              "    }\n",
              "\n",
              "    .dataframe tbody tr th {\n",
              "        vertical-align: top;\n",
              "    }\n",
              "\n",
              "    .dataframe thead th {\n",
              "        text-align: right;\n",
              "    }\n",
              "</style>\n",
              "<table border=\"1\" class=\"dataframe\">\n",
              "  <thead>\n",
              "    <tr style=\"text-align: right;\">\n",
              "      <th></th>\n",
              "      <th>Unnamed: 0</th>\n",
              "      <th>online_order</th>\n",
              "      <th>book_table</th>\n",
              "      <th>votes</th>\n",
              "      <th>location</th>\n",
              "      <th>cuisines</th>\n",
              "      <th>approx_cost(for two people)</th>\n",
              "      <th>listed_in(type)</th>\n",
              "      <th>type</th>\n",
              "      <th>rate</th>\n",
              "    </tr>\n",
              "  </thead>\n",
              "  <tbody>\n",
              "    <tr>\n",
              "      <th>0</th>\n",
              "      <td>8615</td>\n",
              "      <td>1</td>\n",
              "      <td>0</td>\n",
              "      <td>670</td>\n",
              "      <td>9</td>\n",
              "      <td>38</td>\n",
              "      <td>500.0</td>\n",
              "      <td>2</td>\n",
              "      <td>4</td>\n",
              "      <td>3.9</td>\n",
              "    </tr>\n",
              "    <tr>\n",
              "      <th>1</th>\n",
              "      <td>29303</td>\n",
              "      <td>0</td>\n",
              "      <td>0</td>\n",
              "      <td>14710</td>\n",
              "      <td>29</td>\n",
              "      <td>51</td>\n",
              "      <td>900.0</td>\n",
              "      <td>1</td>\n",
              "      <td>8</td>\n",
              "      <td>4.7</td>\n",
              "    </tr>\n",
              "    <tr>\n",
              "      <th>2</th>\n",
              "      <td>2779</td>\n",
              "      <td>1</td>\n",
              "      <td>0</td>\n",
              "      <td>22</td>\n",
              "      <td>3</td>\n",
              "      <td>51</td>\n",
              "      <td>250.0</td>\n",
              "      <td>2</td>\n",
              "      <td>8</td>\n",
              "      <td>3.7</td>\n",
              "    </tr>\n",
              "    <tr>\n",
              "      <th>3</th>\n",
              "      <td>21109</td>\n",
              "      <td>1</td>\n",
              "      <td>0</td>\n",
              "      <td>80</td>\n",
              "      <td>21</td>\n",
              "      <td>51</td>\n",
              "      <td>750.0</td>\n",
              "      <td>4</td>\n",
              "      <td>4</td>\n",
              "      <td>3.5</td>\n",
              "    </tr>\n",
              "    <tr>\n",
              "      <th>4</th>\n",
              "      <td>44380</td>\n",
              "      <td>1</td>\n",
              "      <td>0</td>\n",
              "      <td>638</td>\n",
              "      <td>39</td>\n",
              "      <td>51</td>\n",
              "      <td>700.0</td>\n",
              "      <td>3</td>\n",
              "      <td>3</td>\n",
              "      <td>4.1</td>\n",
              "    </tr>\n",
              "  </tbody>\n",
              "</table>\n",
              "</div>"
            ],
            "text/plain": [
              "   Unnamed: 0  online_order  book_table  votes  location  cuisines  \\\n",
              "0        8615             1           0    670         9        38   \n",
              "1       29303             0           0  14710        29        51   \n",
              "2        2779             1           0     22         3        51   \n",
              "3       21109             1           0     80        21        51   \n",
              "4       44380             1           0    638        39        51   \n",
              "\n",
              "   approx_cost(for two people)  listed_in(type)  type  rate  \n",
              "0                        500.0                2     4   3.9  \n",
              "1                        900.0                1     8   4.7  \n",
              "2                        250.0                2     8   3.7  \n",
              "3                        750.0                4     4   3.5  \n",
              "4                        700.0                3     3   4.1  "
            ]
          },
          "execution_count": 3,
          "metadata": {},
          "output_type": "execute_result"
        }
      ],
      "source": [
        "train_df.head()"
      ]
    },
    {
      "cell_type": "code",
      "execution_count": 4,
      "metadata": {
        "id": "m74nZm1v8tJE"
      },
      "outputs": [],
      "source": [
        "drop_col = [\"Unnamed: 0\",\"location\"]"
      ]
    },
    {
      "cell_type": "markdown",
      "metadata": {
        "id": "wv1Gw6XNJa_K"
      },
      "source": [
        "* removing location because we don't want a location component inorder to predict the rating **it should be general**"
      ]
    },
    {
      "cell_type": "code",
      "execution_count": 5,
      "metadata": {
        "id": "lAiqaj4c9BRV"
      },
      "outputs": [],
      "source": [
        "train_df.drop(drop_col, axis = 1, inplace = True)\n",
        "test_df.drop(drop_col, axis = 1, inplace = True)"
      ]
    },
    {
      "cell_type": "code",
      "execution_count": 6,
      "metadata": {
        "colab": {
          "base_uri": "https://localhost:8080/",
          "height": 206
        },
        "id": "T8MSN6af9Qry",
        "outputId": "c8d54c67-8c75-4c37-a730-6b2b67c91550"
      },
      "outputs": [
        {
          "data": {
            "text/html": [
              "<div>\n",
              "<style scoped>\n",
              "    .dataframe tbody tr th:only-of-type {\n",
              "        vertical-align: middle;\n",
              "    }\n",
              "\n",
              "    .dataframe tbody tr th {\n",
              "        vertical-align: top;\n",
              "    }\n",
              "\n",
              "    .dataframe thead th {\n",
              "        text-align: right;\n",
              "    }\n",
              "</style>\n",
              "<table border=\"1\" class=\"dataframe\">\n",
              "  <thead>\n",
              "    <tr style=\"text-align: right;\">\n",
              "      <th></th>\n",
              "      <th>online_order</th>\n",
              "      <th>book_table</th>\n",
              "      <th>votes</th>\n",
              "      <th>cuisines</th>\n",
              "      <th>approx_cost(for two people)</th>\n",
              "      <th>listed_in(type)</th>\n",
              "      <th>type</th>\n",
              "      <th>rate</th>\n",
              "    </tr>\n",
              "  </thead>\n",
              "  <tbody>\n",
              "    <tr>\n",
              "      <th>0</th>\n",
              "      <td>1</td>\n",
              "      <td>0</td>\n",
              "      <td>670</td>\n",
              "      <td>38</td>\n",
              "      <td>500.0</td>\n",
              "      <td>2</td>\n",
              "      <td>4</td>\n",
              "      <td>3.9</td>\n",
              "    </tr>\n",
              "    <tr>\n",
              "      <th>1</th>\n",
              "      <td>0</td>\n",
              "      <td>0</td>\n",
              "      <td>14710</td>\n",
              "      <td>51</td>\n",
              "      <td>900.0</td>\n",
              "      <td>1</td>\n",
              "      <td>8</td>\n",
              "      <td>4.7</td>\n",
              "    </tr>\n",
              "    <tr>\n",
              "      <th>2</th>\n",
              "      <td>1</td>\n",
              "      <td>0</td>\n",
              "      <td>22</td>\n",
              "      <td>51</td>\n",
              "      <td>250.0</td>\n",
              "      <td>2</td>\n",
              "      <td>8</td>\n",
              "      <td>3.7</td>\n",
              "    </tr>\n",
              "    <tr>\n",
              "      <th>3</th>\n",
              "      <td>1</td>\n",
              "      <td>0</td>\n",
              "      <td>80</td>\n",
              "      <td>51</td>\n",
              "      <td>750.0</td>\n",
              "      <td>4</td>\n",
              "      <td>4</td>\n",
              "      <td>3.5</td>\n",
              "    </tr>\n",
              "    <tr>\n",
              "      <th>4</th>\n",
              "      <td>1</td>\n",
              "      <td>0</td>\n",
              "      <td>638</td>\n",
              "      <td>51</td>\n",
              "      <td>700.0</td>\n",
              "      <td>3</td>\n",
              "      <td>3</td>\n",
              "      <td>4.1</td>\n",
              "    </tr>\n",
              "  </tbody>\n",
              "</table>\n",
              "</div>"
            ],
            "text/plain": [
              "   online_order  book_table  votes  cuisines  approx_cost(for two people)  \\\n",
              "0             1           0    670        38                        500.0   \n",
              "1             0           0  14710        51                        900.0   \n",
              "2             1           0     22        51                        250.0   \n",
              "3             1           0     80        51                        750.0   \n",
              "4             1           0    638        51                        700.0   \n",
              "\n",
              "   listed_in(type)  type  rate  \n",
              "0                2     4   3.9  \n",
              "1                1     8   4.7  \n",
              "2                2     8   3.7  \n",
              "3                4     4   3.5  \n",
              "4                3     3   4.1  "
            ]
          },
          "execution_count": 6,
          "metadata": {},
          "output_type": "execute_result"
        }
      ],
      "source": [
        "train_df.head()"
      ]
    },
    {
      "cell_type": "markdown",
      "metadata": {
        "id": "Vg6Ygiw7KQov"
      },
      "source": [
        "#### Splitting the Train and Test dataset into independent and dependent"
      ]
    },
    {
      "cell_type": "markdown",
      "metadata": {
        "id": "HP42EFHQORzR"
      },
      "source": [
        "**Splitting Train Dataset**\n",
        "\n",
        "---\n",
        "\n",
        "\n"
      ]
    },
    {
      "cell_type": "code",
      "execution_count": 7,
      "metadata": {
        "colab": {
          "base_uri": "https://localhost:8080/",
          "height": 0
        },
        "id": "3a0sPqb0-W7T",
        "outputId": "b70ba1d8-2728-40c5-d31e-80cd2b5d3a7a"
      },
      "outputs": [
        {
          "data": {
            "text/html": [
              "<div>\n",
              "<style scoped>\n",
              "    .dataframe tbody tr th:only-of-type {\n",
              "        vertical-align: middle;\n",
              "    }\n",
              "\n",
              "    .dataframe tbody tr th {\n",
              "        vertical-align: top;\n",
              "    }\n",
              "\n",
              "    .dataframe thead th {\n",
              "        text-align: right;\n",
              "    }\n",
              "</style>\n",
              "<table border=\"1\" class=\"dataframe\">\n",
              "  <thead>\n",
              "    <tr style=\"text-align: right;\">\n",
              "      <th></th>\n",
              "      <th>online_order</th>\n",
              "      <th>book_table</th>\n",
              "      <th>votes</th>\n",
              "      <th>cuisines</th>\n",
              "      <th>approx_cost(for two people)</th>\n",
              "      <th>listed_in(type)</th>\n",
              "      <th>type</th>\n",
              "    </tr>\n",
              "  </thead>\n",
              "  <tbody>\n",
              "    <tr>\n",
              "      <th>0</th>\n",
              "      <td>1</td>\n",
              "      <td>0</td>\n",
              "      <td>670</td>\n",
              "      <td>38</td>\n",
              "      <td>500.0</td>\n",
              "      <td>2</td>\n",
              "      <td>4</td>\n",
              "    </tr>\n",
              "    <tr>\n",
              "      <th>1</th>\n",
              "      <td>0</td>\n",
              "      <td>0</td>\n",
              "      <td>14710</td>\n",
              "      <td>51</td>\n",
              "      <td>900.0</td>\n",
              "      <td>1</td>\n",
              "      <td>8</td>\n",
              "    </tr>\n",
              "    <tr>\n",
              "      <th>2</th>\n",
              "      <td>1</td>\n",
              "      <td>0</td>\n",
              "      <td>22</td>\n",
              "      <td>51</td>\n",
              "      <td>250.0</td>\n",
              "      <td>2</td>\n",
              "      <td>8</td>\n",
              "    </tr>\n",
              "    <tr>\n",
              "      <th>3</th>\n",
              "      <td>1</td>\n",
              "      <td>0</td>\n",
              "      <td>80</td>\n",
              "      <td>51</td>\n",
              "      <td>750.0</td>\n",
              "      <td>4</td>\n",
              "      <td>4</td>\n",
              "    </tr>\n",
              "    <tr>\n",
              "      <th>4</th>\n",
              "      <td>1</td>\n",
              "      <td>0</td>\n",
              "      <td>638</td>\n",
              "      <td>51</td>\n",
              "      <td>700.0</td>\n",
              "      <td>3</td>\n",
              "      <td>3</td>\n",
              "    </tr>\n",
              "    <tr>\n",
              "      <th>...</th>\n",
              "      <td>...</td>\n",
              "      <td>...</td>\n",
              "      <td>...</td>\n",
              "      <td>...</td>\n",
              "      <td>...</td>\n",
              "      <td>...</td>\n",
              "      <td>...</td>\n",
              "    </tr>\n",
              "    <tr>\n",
              "      <th>32975</th>\n",
              "      <td>1</td>\n",
              "      <td>0</td>\n",
              "      <td>5</td>\n",
              "      <td>51</td>\n",
              "      <td>300.0</td>\n",
              "      <td>2</td>\n",
              "      <td>10</td>\n",
              "    </tr>\n",
              "    <tr>\n",
              "      <th>32976</th>\n",
              "      <td>1</td>\n",
              "      <td>0</td>\n",
              "      <td>16</td>\n",
              "      <td>10</td>\n",
              "      <td>350.0</td>\n",
              "      <td>4</td>\n",
              "      <td>9</td>\n",
              "    </tr>\n",
              "    <tr>\n",
              "      <th>32977</th>\n",
              "      <td>1</td>\n",
              "      <td>0</td>\n",
              "      <td>382</td>\n",
              "      <td>51</td>\n",
              "      <td>500.0</td>\n",
              "      <td>2</td>\n",
              "      <td>3</td>\n",
              "    </tr>\n",
              "    <tr>\n",
              "      <th>32978</th>\n",
              "      <td>1</td>\n",
              "      <td>0</td>\n",
              "      <td>9</td>\n",
              "      <td>14</td>\n",
              "      <td>300.0</td>\n",
              "      <td>1</td>\n",
              "      <td>3</td>\n",
              "    </tr>\n",
              "    <tr>\n",
              "      <th>32979</th>\n",
              "      <td>1</td>\n",
              "      <td>0</td>\n",
              "      <td>85</td>\n",
              "      <td>51</td>\n",
              "      <td>400.0</td>\n",
              "      <td>2</td>\n",
              "      <td>4</td>\n",
              "    </tr>\n",
              "  </tbody>\n",
              "</table>\n",
              "<p>32980 rows × 7 columns</p>\n",
              "</div>"
            ],
            "text/plain": [
              "       online_order  book_table  votes  cuisines  approx_cost(for two people)  \\\n",
              "0                 1           0    670        38                        500.0   \n",
              "1                 0           0  14710        51                        900.0   \n",
              "2                 1           0     22        51                        250.0   \n",
              "3                 1           0     80        51                        750.0   \n",
              "4                 1           0    638        51                        700.0   \n",
              "...             ...         ...    ...       ...                          ...   \n",
              "32975             1           0      5        51                        300.0   \n",
              "32976             1           0     16        10                        350.0   \n",
              "32977             1           0    382        51                        500.0   \n",
              "32978             1           0      9        14                        300.0   \n",
              "32979             1           0     85        51                        400.0   \n",
              "\n",
              "       listed_in(type)  type  \n",
              "0                    2     4  \n",
              "1                    1     8  \n",
              "2                    2     8  \n",
              "3                    4     4  \n",
              "4                    3     3  \n",
              "...                ...   ...  \n",
              "32975                2    10  \n",
              "32976                4     9  \n",
              "32977                2     3  \n",
              "32978                1     3  \n",
              "32979                2     4  \n",
              "\n",
              "[32980 rows x 7 columns]"
            ]
          },
          "execution_count": 7,
          "metadata": {},
          "output_type": "execute_result"
        }
      ],
      "source": [
        "X_train = train_df.drop(\"rate\" , axis = 1)\n",
        "y_train = train_df[\"rate\"]\n",
        "X_train"
      ]
    },
    {
      "cell_type": "markdown",
      "metadata": {
        "id": "RguhWmDuOVfo"
      },
      "source": [
        "**Splitting Test Dataset**\n",
        "\n",
        "---\n",
        "\n"
      ]
    },
    {
      "cell_type": "code",
      "execution_count": 8,
      "metadata": {
        "colab": {
          "base_uri": "https://localhost:8080/",
          "height": 0
        },
        "id": "XLgbOViq_mn4",
        "outputId": "cb330c22-89d0-42ce-f729-abc8408ea45f"
      },
      "outputs": [
        {
          "data": {
            "text/html": [
              "<div>\n",
              "<style scoped>\n",
              "    .dataframe tbody tr th:only-of-type {\n",
              "        vertical-align: middle;\n",
              "    }\n",
              "\n",
              "    .dataframe tbody tr th {\n",
              "        vertical-align: top;\n",
              "    }\n",
              "\n",
              "    .dataframe thead th {\n",
              "        text-align: right;\n",
              "    }\n",
              "</style>\n",
              "<table border=\"1\" class=\"dataframe\">\n",
              "  <thead>\n",
              "    <tr style=\"text-align: right;\">\n",
              "      <th></th>\n",
              "      <th>online_order</th>\n",
              "      <th>book_table</th>\n",
              "      <th>votes</th>\n",
              "      <th>cuisines</th>\n",
              "      <th>approx_cost(for two people)</th>\n",
              "      <th>listed_in(type)</th>\n",
              "      <th>type</th>\n",
              "    </tr>\n",
              "  </thead>\n",
              "  <tbody>\n",
              "    <tr>\n",
              "      <th>0</th>\n",
              "      <td>1</td>\n",
              "      <td>0</td>\n",
              "      <td>33</td>\n",
              "      <td>24</td>\n",
              "      <td>400.0</td>\n",
              "      <td>2</td>\n",
              "      <td>7</td>\n",
              "    </tr>\n",
              "    <tr>\n",
              "      <th>1</th>\n",
              "      <td>0</td>\n",
              "      <td>0</td>\n",
              "      <td>339</td>\n",
              "      <td>51</td>\n",
              "      <td>550.0</td>\n",
              "      <td>2</td>\n",
              "      <td>4</td>\n",
              "    </tr>\n",
              "    <tr>\n",
              "      <th>2</th>\n",
              "      <td>1</td>\n",
              "      <td>0</td>\n",
              "      <td>1133</td>\n",
              "      <td>51</td>\n",
              "      <td>800.0</td>\n",
              "      <td>1</td>\n",
              "      <td>3</td>\n",
              "    </tr>\n",
              "    <tr>\n",
              "      <th>3</th>\n",
              "      <td>0</td>\n",
              "      <td>0</td>\n",
              "      <td>44</td>\n",
              "      <td>38</td>\n",
              "      <td>300.0</td>\n",
              "      <td>4</td>\n",
              "      <td>8</td>\n",
              "    </tr>\n",
              "    <tr>\n",
              "      <th>4</th>\n",
              "      <td>1</td>\n",
              "      <td>0</td>\n",
              "      <td>64</td>\n",
              "      <td>18</td>\n",
              "      <td>700.0</td>\n",
              "      <td>2</td>\n",
              "      <td>8</td>\n",
              "    </tr>\n",
              "    <tr>\n",
              "      <th>...</th>\n",
              "      <td>...</td>\n",
              "      <td>...</td>\n",
              "      <td>...</td>\n",
              "      <td>...</td>\n",
              "      <td>...</td>\n",
              "      <td>...</td>\n",
              "      <td>...</td>\n",
              "    </tr>\n",
              "    <tr>\n",
              "      <th>8241</th>\n",
              "      <td>1</td>\n",
              "      <td>1</td>\n",
              "      <td>1854</td>\n",
              "      <td>18</td>\n",
              "      <td>1100.0</td>\n",
              "      <td>2</td>\n",
              "      <td>4</td>\n",
              "    </tr>\n",
              "    <tr>\n",
              "      <th>8242</th>\n",
              "      <td>0</td>\n",
              "      <td>0</td>\n",
              "      <td>7</td>\n",
              "      <td>51</td>\n",
              "      <td>300.0</td>\n",
              "      <td>2</td>\n",
              "      <td>6</td>\n",
              "    </tr>\n",
              "    <tr>\n",
              "      <th>8243</th>\n",
              "      <td>0</td>\n",
              "      <td>1</td>\n",
              "      <td>545</td>\n",
              "      <td>51</td>\n",
              "      <td>1100.0</td>\n",
              "      <td>4</td>\n",
              "      <td>4</td>\n",
              "    </tr>\n",
              "    <tr>\n",
              "      <th>8244</th>\n",
              "      <td>0</td>\n",
              "      <td>0</td>\n",
              "      <td>53</td>\n",
              "      <td>51</td>\n",
              "      <td>350.0</td>\n",
              "      <td>3</td>\n",
              "      <td>8</td>\n",
              "    </tr>\n",
              "    <tr>\n",
              "      <th>8245</th>\n",
              "      <td>1</td>\n",
              "      <td>0</td>\n",
              "      <td>24</td>\n",
              "      <td>38</td>\n",
              "      <td>250.0</td>\n",
              "      <td>2</td>\n",
              "      <td>9</td>\n",
              "    </tr>\n",
              "  </tbody>\n",
              "</table>\n",
              "<p>8246 rows × 7 columns</p>\n",
              "</div>"
            ],
            "text/plain": [
              "      online_order  book_table  votes  cuisines  approx_cost(for two people)  \\\n",
              "0                1           0     33        24                        400.0   \n",
              "1                0           0    339        51                        550.0   \n",
              "2                1           0   1133        51                        800.0   \n",
              "3                0           0     44        38                        300.0   \n",
              "4                1           0     64        18                        700.0   \n",
              "...            ...         ...    ...       ...                          ...   \n",
              "8241             1           1   1854        18                       1100.0   \n",
              "8242             0           0      7        51                        300.0   \n",
              "8243             0           1    545        51                       1100.0   \n",
              "8244             0           0     53        51                        350.0   \n",
              "8245             1           0     24        38                        250.0   \n",
              "\n",
              "      listed_in(type)  type  \n",
              "0                   2     7  \n",
              "1                   2     4  \n",
              "2                   1     3  \n",
              "3                   4     8  \n",
              "4                   2     8  \n",
              "...               ...   ...  \n",
              "8241                2     4  \n",
              "8242                2     6  \n",
              "8243                4     4  \n",
              "8244                3     8  \n",
              "8245                2     9  \n",
              "\n",
              "[8246 rows x 7 columns]"
            ]
          },
          "execution_count": 8,
          "metadata": {},
          "output_type": "execute_result"
        }
      ],
      "source": [
        "X_test = test_df.drop(\"rate\" , axis = 1)\n",
        "y_test = test_df[\"rate\"]\n",
        "X_test"
      ]
    },
    {
      "cell_type": "markdown",
      "metadata": {
        "id": "hYuu1sv5ulJ5"
      },
      "source": [
        "### Normalizing all data's using MinMaxScalar"
      ]
    },
    {
      "cell_type": "code",
      "execution_count": 9,
      "metadata": {
        "id": "1zr9vvmL_MXf"
      },
      "outputs": [],
      "source": [
        "sc = MinMaxScaler()"
      ]
    },
    {
      "cell_type": "markdown",
      "metadata": {
        "id": "MP5rbhUaOndR"
      },
      "source": [
        "**Fit and Transforming Train Dataset**\n",
        "\n",
        "\n",
        "---\n",
        "\n"
      ]
    },
    {
      "cell_type": "code",
      "execution_count": 10,
      "metadata": {
        "id": "G7b7goQm_h2y"
      },
      "outputs": [],
      "source": [
        "X_train = sc.fit_transform(X_train)"
      ]
    },
    {
      "cell_type": "markdown",
      "metadata": {
        "id": "Yy-qk7jEOx5K"
      },
      "source": [
        "**Transform Test Dataset**\n",
        "\n",
        "\n",
        "---\n",
        "\n"
      ]
    },
    {
      "cell_type": "code",
      "execution_count": 11,
      "metadata": {
        "id": "mrSIZ3TsGRBO"
      },
      "outputs": [],
      "source": [
        "X_test = sc.transform(X_test)"
      ]
    },
    {
      "cell_type": "code",
      "execution_count": 12,
      "metadata": {
        "colab": {
          "base_uri": "https://localhost:8080/"
        },
        "id": "reyhtXEOts6T",
        "outputId": "678d1116-a6dc-4a74-d6d8-6e3720da90d8"
      },
      "outputs": [
        {
          "data": {
            "text/plain": [
              "array([[1.00000000e+00, 0.00000000e+00, 3.98051331e-02, ...,\n",
              "        7.71812081e-02, 3.33333333e-01, 4.00000000e-01],\n",
              "       [0.00000000e+00, 0.00000000e+00, 8.73930608e-01, ...,\n",
              "        1.44295302e-01, 1.66666667e-01, 8.00000000e-01],\n",
              "       [1.00000000e+00, 0.00000000e+00, 1.30703422e-03, ...,\n",
              "        3.52348993e-02, 3.33333333e-01, 8.00000000e-01],\n",
              "       ...,\n",
              "       [1.00000000e+00, 0.00000000e+00, 2.26948669e-02, ...,\n",
              "        7.71812081e-02, 3.33333333e-01, 3.00000000e-01],\n",
              "       [1.00000000e+00, 0.00000000e+00, 5.34695817e-04, ...,\n",
              "        4.36241611e-02, 1.66666667e-01, 3.00000000e-01],\n",
              "       [1.00000000e+00, 0.00000000e+00, 5.04990494e-03, ...,\n",
              "        6.04026846e-02, 3.33333333e-01, 4.00000000e-01]])"
            ]
          },
          "execution_count": 12,
          "metadata": {},
          "output_type": "execute_result"
        }
      ],
      "source": [
        "X_train"
      ]
    },
    {
      "cell_type": "code",
      "execution_count": 13,
      "metadata": {
        "colab": {
          "base_uri": "https://localhost:8080/"
        },
        "id": "jPMJmM5StpTg",
        "outputId": "a827b936-083e-428c-f746-efc9c474ec07"
      },
      "outputs": [
        {
          "data": {
            "text/plain": [
              "array([[1.        , 0.        , 0.00196055, ..., 0.06040268, 0.33333333,\n",
              "        0.7       ],\n",
              "       [0.        , 0.        , 0.02014021, ..., 0.08557047, 0.33333333,\n",
              "        0.4       ],\n",
              "       [1.        , 0.        , 0.06731226, ..., 0.12751678, 0.16666667,\n",
              "        0.3       ],\n",
              "       ...,\n",
              "       [0.        , 1.        , 0.0323788 , ..., 0.17785235, 0.66666667,\n",
              "        0.4       ],\n",
              "       [0.        , 0.        , 0.00314876, ..., 0.05201342, 0.5       ,\n",
              "        0.8       ],\n",
              "       [1.        , 0.        , 0.00142586, ..., 0.0352349 , 0.33333333,\n",
              "        0.9       ]])"
            ]
          },
          "execution_count": 13,
          "metadata": {},
          "output_type": "execute_result"
        }
      ],
      "source": [
        "X_test"
      ]
    },
    {
      "cell_type": "markdown",
      "metadata": {
        "id": "xbXySJW2s4lP"
      },
      "source": [
        "### Model Selection and Evaluation"
      ]
    },
    {
      "cell_type": "code",
      "execution_count": 14,
      "metadata": {
        "id": "Z4hBLa0R9TF-"
      },
      "outputs": [],
      "source": [
        "from sklearn.linear_model import LinearRegression\n",
        "from sklearn.preprocessing import PolynomialFeatures\n",
        "from sklearn.svm import SVR\n",
        "from sklearn.tree import DecisionTreeRegressor\n",
        "from sklearn.ensemble import RandomForestRegressor\n",
        "from sklearn.ensemble import  ExtraTreesRegressor\n",
        "from sklearn.metrics import mean_squared_error as MSE\n",
        "from sklearn.metrics import mean_absolute_error as MAE\n",
        "from sklearn.metrics import r2_score as R2\n"
      ]
    },
    {
      "cell_type": "code",
      "execution_count": 15,
      "metadata": {
        "id": "8WQI56oyATsH"
      },
      "outputs": [],
      "source": [
        "models = [LinearRegression(), SVR(), DecisionTreeRegressor(), RandomForestRegressor(), ExtraTreesRegressor()]"
      ]
    },
    {
      "cell_type": "code",
      "execution_count": 16,
      "metadata": {
        "id": "v4fiaOPtDcK_"
      },
      "outputs": [],
      "source": [
        "scores = [] # used to store the r2 score \n",
        "errors = [] # used to store the error values :- errors[0] = [mse, mae]\n",
        "model_names = [str(x) for x in models] # storing name of all using models "
      ]
    },
    {
      "cell_type": "markdown",
      "metadata": {
        "id": "msSdEWj2LQBr"
      },
      "source": [
        "#### Training all models and Evaluating using Test Dataset"
      ]
    },
    {
      "cell_type": "code",
      "execution_count": 17,
      "metadata": {
        "colab": {
          "base_uri": "https://localhost:8080/"
        },
        "id": "bQzvMbqbA7Hn",
        "outputId": "9fcf487e-5407-4919-f326-f6de65472dda"
      },
      "outputs": [
        {
          "name": "stdout",
          "output_type": "stream",
          "text": [
            "LinearRegression()\n",
            "\n",
            "\tscore => 0.2979484055750946\n",
            "\tmse => 0.13631533378807506\n",
            "\tmae => 0.28705417467510147\n",
            "\n",
            "SVR()\n",
            "\n",
            "\tscore => 0.37268434427813935\n",
            "\tmse => 0.12180407206433237\n",
            "\tmae => 0.2612936989338528\n",
            "\n",
            "DecisionTreeRegressor()\n",
            "\n",
            "\tscore => 0.8181320386843586\n",
            "\tmse => 0.035312777649065194\n",
            "\tmae => 0.06987940426011122\n",
            "\n",
            "RandomForestRegressor()\n",
            "\n",
            "\tscore => 0.8597001289942141\n",
            "\tmse => 0.02724162141137803\n",
            "\tmae => 0.08452260609626965\n",
            "\n",
            "ExtraTreesRegressor()\n",
            "\n",
            "\tscore => 0.8481498830632175\n",
            "\tmse => 0.029484299359724412\n",
            "\tmae => 0.07412772147871995\n",
            "\n"
          ]
        }
      ],
      "source": [
        "for idx, model in enumerate(models):\n",
        "  model.fit(X_train,y_train)\n",
        "  score = model.score(X_test, y_test)\n",
        "  y_pred = model.predict(X_test)\n",
        "  mse = MSE(y_test, y_pred)\n",
        "  mae = MAE(y_test, y_pred)\n",
        "\n",
        "  scores.append(score)\n",
        "  errors.append([mse, mae])\n",
        "\n",
        "  print(f\"{model_names[idx]}\\n\\n\\tscore => {score}\\n\\tmse => {mse}\\n\\tmae => {mae}\")\n",
        "  print()\n",
        "  "
      ]
    },
    {
      "cell_type": "markdown",
      "metadata": {
        "id": "hOim_uggMNW4"
      },
      "source": [
        "storing all evaluation info into a dataframe for **visualization**\n",
        "\n",
        "---\n",
        "\n",
        "\n"
      ]
    },
    {
      "cell_type": "code",
      "execution_count": 18,
      "metadata": {
        "id": "zQ2hYsrqodSN"
      },
      "outputs": [],
      "source": [
        "model_metrics = pd.DataFrame({\"models\" : model_names,\"MSE\" : np.array(errors)[:,0], \"MAE\" :  np.array(errors)[:,1], \"r2\" : scores})"
      ]
    },
    {
      "cell_type": "code",
      "execution_count": 19,
      "metadata": {
        "colab": {
          "base_uri": "https://localhost:8080/",
          "height": 0
        },
        "id": "yyxMXKHApBeB",
        "outputId": "e7f09077-1c34-473d-f116-4f00a24b59a2"
      },
      "outputs": [
        {
          "data": {
            "text/html": [
              "<div>\n",
              "<style scoped>\n",
              "    .dataframe tbody tr th:only-of-type {\n",
              "        vertical-align: middle;\n",
              "    }\n",
              "\n",
              "    .dataframe tbody tr th {\n",
              "        vertical-align: top;\n",
              "    }\n",
              "\n",
              "    .dataframe thead th {\n",
              "        text-align: right;\n",
              "    }\n",
              "</style>\n",
              "<table border=\"1\" class=\"dataframe\">\n",
              "  <thead>\n",
              "    <tr style=\"text-align: right;\">\n",
              "      <th></th>\n",
              "      <th>models</th>\n",
              "      <th>MSE</th>\n",
              "      <th>MAE</th>\n",
              "      <th>r2</th>\n",
              "    </tr>\n",
              "  </thead>\n",
              "  <tbody>\n",
              "    <tr>\n",
              "      <th>0</th>\n",
              "      <td>LinearRegression</td>\n",
              "      <td>0.136315</td>\n",
              "      <td>0.287054</td>\n",
              "      <td>0.297948</td>\n",
              "    </tr>\n",
              "    <tr>\n",
              "      <th>1</th>\n",
              "      <td>SVR</td>\n",
              "      <td>0.121804</td>\n",
              "      <td>0.261294</td>\n",
              "      <td>0.372684</td>\n",
              "    </tr>\n",
              "    <tr>\n",
              "      <th>2</th>\n",
              "      <td>DecisionTreeRegressor</td>\n",
              "      <td>0.035313</td>\n",
              "      <td>0.069879</td>\n",
              "      <td>0.818132</td>\n",
              "    </tr>\n",
              "    <tr>\n",
              "      <th>3</th>\n",
              "      <td>RandomForestRegressor</td>\n",
              "      <td>0.027242</td>\n",
              "      <td>0.084523</td>\n",
              "      <td>0.859700</td>\n",
              "    </tr>\n",
              "    <tr>\n",
              "      <th>4</th>\n",
              "      <td>ExtraTreesRegressor</td>\n",
              "      <td>0.029484</td>\n",
              "      <td>0.074128</td>\n",
              "      <td>0.848150</td>\n",
              "    </tr>\n",
              "  </tbody>\n",
              "</table>\n",
              "</div>"
            ],
            "text/plain": [
              "                  models       MSE       MAE        r2\n",
              "0       LinearRegression  0.136315  0.287054  0.297948\n",
              "1                    SVR  0.121804  0.261294  0.372684\n",
              "2  DecisionTreeRegressor  0.035313  0.069879  0.818132\n",
              "3  RandomForestRegressor  0.027242  0.084523  0.859700\n",
              "4    ExtraTreesRegressor  0.029484  0.074128  0.848150"
            ]
          },
          "execution_count": 19,
          "metadata": {},
          "output_type": "execute_result"
        }
      ],
      "source": [
        "model_metrics[\"models\"] = model_metrics[\"models\"].str.split(\"(\").str[0]\n",
        "model_metrics"
      ]
    },
    {
      "cell_type": "code",
      "execution_count": 20,
      "metadata": {
        "colab": {
          "base_uri": "https://localhost:8080/",
          "height": 0
        },
        "id": "okXfAC30qfvQ",
        "outputId": "d6e01be5-a845-493e-860a-4642a11c058e"
      },
      "outputs": [
        {
          "data": {
            "text/plain": [
              "[Text(0.5, 1.0, 'Models Perfomance Evaluation')]"
            ]
          },
          "execution_count": 20,
          "metadata": {},
          "output_type": "execute_result"
        },
        {
          "data": {
            "image/png": "[encoded data removed]",
            "text/plain": [
              "<Figure size 1400x500 with 1 Axes>"
            ]
          },
          "metadata": {},
          "output_type": "display_data"
        }
      ],
      "source": [
        "plt.figure(figsize=(14,5))\n",
        "sns.barplot(data = model_metrics, x = \"models\" , y = \"r2\").set(title = \"Models Perfomance Evaluation\")"
      ]
    },
    {
      "cell_type": "markdown",
      "metadata": {
        "id": "ceNpfh04NB9g"
      },
      "source": [
        "saving metrics informations as a **CSV**\n",
        "\n",
        "---\n",
        "\n"
      ]
    },
    {
      "cell_type": "code",
      "execution_count": 21,
      "metadata": {
        "id": "wous2X0BNALP"
      },
      "outputs": [],
      "source": [
        "model_metrics.to_csv(\"model_metrics_and_scores.csv\")"
      ]
    },
    {
      "cell_type": "markdown",
      "metadata": {
        "id": "2c-NHr-eLlst"
      },
      "source": [
        "Best Fit model => **Extra Trees Regressor**\n",
        "\n",
        "---\n",
        "\n"
      ]
    },
    {
      "cell_type": "code",
      "execution_count": 22,
      "metadata": {
        "colab": {
          "base_uri": "https://localhost:8080/"
        },
        "id": "nP9ihd48fFPT",
        "outputId": "0e5d57a2-c8c5-4ffe-b316-9b9d041e51fd"
      },
      "outputs": [
        {
          "name": "stdout",
          "output_type": "stream",
          "text": [
            "Train r2 score => 0.9735992749477724\n",
            "\n",
            "Test r2 score => 0.8502369832265075\n"
          ]
        }
      ],
      "source": [
        "model = ExtraTreesRegressor()\n",
        "model.fit(X_train,y_train)\n",
        "print(f\"Train r2 score => {model.score(X_train,y_train)}\")\n",
        "print()\n",
        "print(f\"Test r2 score => {model.score(X_test,y_test)}\")"
      ]
    },
    {
      "cell_type": "markdown",
      "metadata": {
        "id": "GuhTq01_rPv4"
      },
      "source": [
        "\n",
        "\n",
        "---\n",
        "\n",
        "\n",
        "\n",
        "**CONCLUTION :** use ExtraTreesRegressor as model\n",
        "\n",
        "\n",
        "\n",
        "---\n",
        "\n"
      ]
    },
    {
      "cell_type": "markdown",
      "metadata": {
        "id": "egL0bgFzDtb1"
      },
      "source": [
        "### Hyperparameter tuning"
      ]
    },
    {
      "cell_type": "code",
      "execution_count": 23,
      "metadata": {
        "id": "cQmj0qo7fLIt"
      },
      "outputs": [],
      "source": [
        "from sklearn.model_selection import GridSearchCV"
      ]
    },
    {
      "cell_type": "code",
      "execution_count": 24,
      "metadata": {
        "id": "1VjtccaOfSfk"
      },
      "outputs": [],
      "source": [
        "gsc = GridSearchCV(\n",
        "    estimator=model,\n",
        "    param_grid={\n",
        "        'n_estimators': range(50,126,25),        \n",
        "        'min_samples_leaf': range(20,50,5),\n",
        "        'min_samples_split': range(15,36,5),\n",
        "    },\n",
        "    scoring='r2',\n",
        "    cv=2,\n",
        "    verbose=2,\n",
        "    n_jobs=-1 \n",
        ")"
      ]
    },
    {
      "cell_type": "code",
      "execution_count": 25,
      "metadata": {
        "colab": {
          "base_uri": "https://localhost:8080/"
        },
        "id": "Bzu9zi2tgxVv",
        "outputId": "a4b3d46e-9400-45bb-f3c3-657359506c8b"
      },
      "outputs": [
        {
          "name": "stdout",
          "output_type": "stream",
          "text": [
            "Fitting 2 folds for each of 120 candidates, totalling 240 fits\n"
          ]
        }
      ],
      "source": [
        "grid_result = gsc.fit(X_train, y_train)"
      ]
    },
    {
      "cell_type": "code",
      "execution_count": 26,
      "metadata": {
        "colab": {
          "base_uri": "https://localhost:8080/"
        },
        "id": "AcLcf2i4g4Jo",
        "outputId": "847d2342-ea37-4f6e-bf27-f2083652cf48"
      },
      "outputs": [
        {
          "name": "stdout",
          "output_type": "stream",
          "text": [
            "Best: 0.534988 using {'min_samples_leaf': 20, 'min_samples_split': 25, 'n_estimators': 75}\n"
          ]
        }
      ],
      "source": [
        "print(\"Best: %f using %s\" % (grid_result.best_score_, grid_result.best_params_))"
      ]
    },
    {
      "cell_type": "code",
      "execution_count": 27,
      "metadata": {
        "id": "qJLtCfz3hyv5"
      },
      "outputs": [],
      "source": [
        "model = ExtraTreesRegressor(**grid_result.best_params_)"
      ]
    },
    {
      "cell_type": "code",
      "execution_count": 28,
      "metadata": {
        "colab": {
          "base_uri": "https://localhost:8080/"
        },
        "id": "2njS4k1_n_RP",
        "outputId": "7daba395-bf66-4aae-a28c-b70537e3ff17"
      },
      "outputs": [
        {
          "name": "stdout",
          "output_type": "stream",
          "text": [
            "ExtraTreesRegressor(min_samples_leaf=20, min_samples_split=25, n_estimators=75)\n"
          ]
        }
      ],
      "source": [
        "print(model)"
      ]
    },
    {
      "cell_type": "code",
      "execution_count": 29,
      "metadata": {
        "colab": {
          "base_uri": "https://localhost:8080/"
        },
        "id": "8xCsme0yoB8b",
        "outputId": "66dfded5-9f16-4c19-9a24-6fd615649530"
      },
      "outputs": [
        {
          "data": {
            "text/html": [
              "<style>#sk-container-id-1 {\n",
              "  /* Definition of color scheme common for light and dark mode */\n",
              "  --sklearn-color-text: black;\n",
              "  --sklearn-color-line: gray;\n",
              "  /* Definition of color scheme for unfitted estimators */\n",
              "  --sklearn-color-unfitted-level-0: #fff5e6;\n",
              "  --sklearn-color-unfitted-level-1: #f6e4d2;\n",
              "  --sklearn-color-unfitted-level-2: #ffe0b3;\n",
              "  --sklearn-color-unfitted-level-3: chocolate;\n",
              "  /* Definition of color scheme for fitted estimators */\n",
              "  --sklearn-color-fitted-level-0: #f0f8ff;\n",
              "  --sklearn-color-fitted-level-1: #d4ebff;\n",
              "  --sklearn-color-fitted-level-2: #b3dbfd;\n",
              "  --sklearn-color-fitted-level-3: cornflowerblue;\n",
              "\n",
              "  /* Specific color for light theme */\n",
              "  --sklearn-color-text-on-default-background: var(--sg-text-color, var(--theme-code-foreground, var(--jp-content-font-color1, black)));\n",
              "  --sklearn-color-background: var(--sg-background-color, var(--theme-background, var(--jp-layout-color0, white)));\n",
              "  --sklearn-color-border-box: var(--sg-text-color, var(--theme-code-foreground, var(--jp-content-font-color1, black)));\n",
              "  --sklearn-color-icon: #696969;\n",
              "\n",
              "  @media (prefers-color-scheme: dark) {\n",
              "    /* Redefinition of color scheme for dark theme */\n",
              "    --sklearn-color-text-on-default-background: var(--sg-text-color, var(--theme-code-foreground, var(--jp-content-font-color1, white)));\n",
              "    --sklearn-color-background: var(--sg-background-color, var(--theme-background, var(--jp-layout-color0, #111)));\n",
              "    --sklearn-color-border-box: var(--sg-text-color, var(--theme-code-foreground, var(--jp-content-font-color1, white)));\n",
              "    --sklearn-color-icon: #878787;\n",
              "  }\n",
              "}\n",
              "\n",
              "#sk-container-id-1 {\n",
              "  color: var(--sklearn-color-text);\n",
              "}\n",
              "\n",
              "#sk-container-id-1 pre {\n",
              "  padding: 0;\n",
              "}\n",
              "\n",
              "#sk-container-id-1 input.sk-hidden--visually {\n",
              "  border: 0;\n",
              "  clip: rect(1px 1px 1px 1px);\n",
              "  clip: rect(1px, 1px, 1px, 1px);\n",
              "  height: 1px;\n",
              "  margin: -1px;\n",
              "  overflow: hidden;\n",
              "  padding: 0;\n",
              "  position: absolute;\n",
              "  width: 1px;\n",
              "}\n",
              "\n",
              "#sk-container-id-1 div.sk-dashed-wrapped {\n",
              "  border: 1px dashed var(--sklearn-color-line);\n",
              "  margin: 0 0.4em 0.5em 0.4em;\n",
              "  box-sizing: border-box;\n",
              "  padding-bottom: 0.4em;\n",
              "  background-color: var(--sklearn-color-background);\n",
              "}\n",
              "\n",
              "#sk-container-id-1 div.sk-container {\n",
              "  /* jupyter's `normalize.less` sets `[hidden] { display: none; }`\n",
              "     but bootstrap.min.css set `[hidden] { display: none !important; }`\n",
              "     so we also need the `!important` here to be able to override the\n",
              "     default hidden behavior on the sphinx rendered scikit-learn.org.\n",
              "     See: https://github.com/scikit-learn/scikit-learn/issues/21755 */\n",
              "  display: inline-block !important;\n",
              "  position: relative;\n",
              "}\n",
              "\n",
              "#sk-container-id-1 div.sk-text-repr-fallback {\n",
              "  display: none;\n",
              "}\n",
              "\n",
              "div.sk-parallel-item,\n",
              "div.sk-serial,\n",
              "div.sk-item {\n",
              "  /* draw centered vertical line to link estimators */\n",
              "  background-image: linear-gradient(var(--sklearn-color-text-on-default-background), var(--sklearn-color-text-on-default-background));\n",
              "  background-size: 2px 100%;\n",
              "  background-repeat: no-repeat;\n",
              "  background-position: center center;\n",
              "}\n",
              "\n",
              "/* Parallel-specific style estimator block */\n",
              "\n",
              "#sk-container-id-1 div.sk-parallel-item::after {\n",
              "  content: \"\";\n",
              "  width: 100%;\n",
              "  border-bottom: 2px solid var(--sklearn-color-text-on-default-background);\n",
              "  flex-grow: 1;\n",
              "}\n",
              "\n",
              "#sk-container-id-1 div.sk-parallel {\n",
              "  display: flex;\n",
              "  align-items: stretch;\n",
              "  justify-content: center;\n",
              "  background-color: var(--sklearn-color-background);\n",
              "  position: relative;\n",
              "}\n",
              "\n",
              "#sk-container-id-1 div.sk-parallel-item {\n",
              "  display: flex;\n",
              "  flex-direction: column;\n",
              "}\n",
              "\n",
              "#sk-container-id-1 div.sk-parallel-item:first-child::after {\n",
              "  align-self: flex-end;\n",
              "  width: 50%;\n",
              "}\n",
              "\n",
              "#sk-container-id-1 div.sk-parallel-item:last-child::after {\n",
              "  align-self: flex-start;\n",
              "  width: 50%;\n",
              "}\n",
              "\n",
              "#sk-container-id-1 div.sk-parallel-item:only-child::after {\n",
              "  width: 0;\n",
              "}\n",
              "\n",
              "/* Serial-specific style estimator block */\n",
              "\n",
              "#sk-container-id-1 div.sk-serial {\n",
              "  display: flex;\n",
              "  flex-direction: column;\n",
              "  align-items: center;\n",
              "  background-color: var(--sklearn-color-background);\n",
              "  padding-right: 1em;\n",
              "  padding-left: 1em;\n",
              "}\n",
              "\n",
              "\n",
              "/* Toggleable style: style used for estimator/Pipeline/ColumnTransformer box that is\n",
              "clickable and can be expanded/collapsed.\n",
              "- Pipeline and ColumnTransformer use this feature and define the default style\n",
              "- Estimators will overwrite some part of the style using the `sk-estimator` class\n",
              "*/\n",
              "\n",
              "/* Pipeline and ColumnTransformer style (default) */\n",
              "\n",
              "#sk-container-id-1 div.sk-toggleable {\n",
              "  /* Default theme specific background. It is overwritten whether we have a\n",
              "  specific estimator or a Pipeline/ColumnTransformer */\n",
              "  background-color: var(--sklearn-color-background);\n",
              "}\n",
              "\n",
              "/* Toggleable label */\n",
              "#sk-container-id-1 label.sk-toggleable__label {\n",
              "  cursor: pointer;\n",
              "  display: block;\n",
              "  width: 100%;\n",
              "  margin-bottom: 0;\n",
              "  padding: 0.5em;\n",
              "  box-sizing: border-box;\n",
              "  text-align: center;\n",
              "}\n",
              "\n",
              "#sk-container-id-1 label.sk-toggleable__label-arrow:before {\n",
              "  /* Arrow on the left of the label */\n",
              "  content: \"▸\";\n",
              "  float: left;\n",
              "  margin-right: 0.25em;\n",
              "  color: var(--sklearn-color-icon);\n",
              "}\n",
              "\n",
              "#sk-container-id-1 label.sk-toggleable__label-arrow:hover:before {\n",
              "  color: var(--sklearn-color-text);\n",
              "}\n",
              "\n",
              "/* Toggleable content - dropdown */\n",
              "\n",
              "#sk-container-id-1 div.sk-toggleable__content {\n",
              "  max-height: 0;\n",
              "  max-width: 0;\n",
              "  overflow: hidden;\n",
              "  text-align: left;\n",
              "  /* unfitted */\n",
              "  background-color: var(--sklearn-color-unfitted-level-0);\n",
              "}\n",
              "\n",
              "#sk-container-id-1 div.sk-toggleable__content.fitted {\n",
              "  /* fitted */\n",
              "  background-color: var(--sklearn-color-fitted-level-0);\n",
              "}\n",
              "\n",
              "#sk-container-id-1 div.sk-toggleable__content pre {\n",
              "  margin: 0.2em;\n",
              "  border-radius: 0.25em;\n",
              "  color: var(--sklearn-color-text);\n",
              "  /* unfitted */\n",
              "  background-color: var(--sklearn-color-unfitted-level-0);\n",
              "}\n",
              "\n",
              "#sk-container-id-1 div.sk-toggleable__content.fitted pre {\n",
              "  /* unfitted */\n",
              "  background-color: var(--sklearn-color-fitted-level-0);\n",
              "}\n",
              "\n",
              "#sk-container-id-1 input.sk-toggleable__control:checked~div.sk-toggleable__content {\n",
              "  /* Expand drop-down */\n",
              "  max-height: 200px;\n",
              "  max-width: 100%;\n",
              "  overflow: auto;\n",
              "}\n",
              "\n",
              "#sk-container-id-1 input.sk-toggleable__control:checked~label.sk-toggleable__label-arrow:before {\n",
              "  content: \"▾\";\n",
              "}\n",
              "\n",
              "/* Pipeline/ColumnTransformer-specific style */\n",
              "\n",
              "#sk-container-id-1 div.sk-label input.sk-toggleable__control:checked~label.sk-toggleable__label {\n",
              "  color: var(--sklearn-color-text);\n",
              "  background-color: var(--sklearn-color-unfitted-level-2);\n",
              "}\n",
              "\n",
              "#sk-container-id-1 div.sk-label.fitted input.sk-toggleable__control:checked~label.sk-toggleable__label {\n",
              "  background-color: var(--sklearn-color-fitted-level-2);\n",
              "}\n",
              "\n",
              "/* Estimator-specific style */\n",
              "\n",
              "/* Colorize estimator box */\n",
              "#sk-container-id-1 div.sk-estimator input.sk-toggleable__control:checked~label.sk-toggleable__label {\n",
              "  /* unfitted */\n",
              "  background-color: var(--sklearn-color-unfitted-level-2);\n",
              "}\n",
              "\n",
              "#sk-container-id-1 div.sk-estimator.fitted input.sk-toggleable__control:checked~label.sk-toggleable__label {\n",
              "  /* fitted */\n",
              "  background-color: var(--sklearn-color-fitted-level-2);\n",
              "}\n",
              "\n",
              "#sk-container-id-1 div.sk-label label.sk-toggleable__label,\n",
              "#sk-container-id-1 div.sk-label label {\n",
              "  /* The background is the default theme color */\n",
              "  color: var(--sklearn-color-text-on-default-background);\n",
              "}\n",
              "\n",
              "/* On hover, darken the color of the background */\n",
              "#sk-container-id-1 div.sk-label:hover label.sk-toggleable__label {\n",
              "  color: var(--sklearn-color-text);\n",
              "  background-color: var(--sklearn-color-unfitted-level-2);\n",
              "}\n",
              "\n",
              "/* Label box, darken color on hover, fitted */\n",
              "#sk-container-id-1 div.sk-label.fitted:hover label.sk-toggleable__label.fitted {\n",
              "  color: var(--sklearn-color-text);\n",
              "  background-color: var(--sklearn-color-fitted-level-2);\n",
              "}\n",
              "\n",
              "/* Estimator label */\n",
              "\n",
              "#sk-container-id-1 div.sk-label label {\n",
              "  font-family: monospace;\n",
              "  font-weight: bold;\n",
              "  display: inline-block;\n",
              "  line-height: 1.2em;\n",
              "}\n",
              "\n",
              "#sk-container-id-1 div.sk-label-container {\n",
              "  text-align: center;\n",
              "}\n",
              "\n",
              "/* Estimator-specific */\n",
              "#sk-container-id-1 div.sk-estimator {\n",
              "  font-family: monospace;\n",
              "  border: 1px dotted var(--sklearn-color-border-box);\n",
              "  border-radius: 0.25em;\n",
              "  box-sizing: border-box;\n",
              "  margin-bottom: 0.5em;\n",
              "  /* unfitted */\n",
              "  background-color: var(--sklearn-color-unfitted-level-0);\n",
              "}\n",
              "\n",
              "#sk-container-id-1 div.sk-estimator.fitted {\n",
              "  /* fitted */\n",
              "  background-color: var(--sklearn-color-fitted-level-0);\n",
              "}\n",
              "\n",
              "/* on hover */\n",
              "#sk-container-id-1 div.sk-estimator:hover {\n",
              "  /* unfitted */\n",
              "  background-color: var(--sklearn-color-unfitted-level-2);\n",
              "}\n",
              "\n",
              "#sk-container-id-1 div.sk-estimator.fitted:hover {\n",
              "  /* fitted */\n",
              "  background-color: var(--sklearn-color-fitted-level-2);\n",
              "}\n",
              "\n",
              "/* Specification for estimator info (e.g. \"i\" and \"?\") */\n",
              "\n",
              "/* Common style for \"i\" and \"?\" */\n",
              "\n",
              ".sk-estimator-doc-link,\n",
              "a:link.sk-estimator-doc-link,\n",
              "a:visited.sk-estimator-doc-link {\n",
              "  float: right;\n",
              "  font-size: smaller;\n",
              "  line-height: 1em;\n",
              "  font-family: monospace;\n",
              "  background-color: var(--sklearn-color-background);\n",
              "  border-radius: 1em;\n",
              "  height: 1em;\n",
              "  width: 1em;\n",
              "  text-decoration: none !important;\n",
              "  margin-left: 1ex;\n",
              "  /* unfitted */\n",
              "  border: var(--sklearn-color-unfitted-level-1) 1pt solid;\n",
              "  color: var(--sklearn-color-unfitted-level-1);\n",
              "}\n",
              "\n",
              ".sk-estimator-doc-link.fitted,\n",
              "a:link.sk-estimator-doc-link.fitted,\n",
              "a:visited.sk-estimator-doc-link.fitted {\n",
              "  /* fitted */\n",
              "  border: var(--sklearn-color-fitted-level-1) 1pt solid;\n",
              "  color: var(--sklearn-color-fitted-level-1);\n",
              "}\n",
              "\n",
              "/* On hover */\n",
              "div.sk-estimator:hover .sk-estimator-doc-link:hover,\n",
              ".sk-estimator-doc-link:hover,\n",
              "div.sk-label-container:hover .sk-estimator-doc-link:hover,\n",
              ".sk-estimator-doc-link:hover {\n",
              "  /* unfitted */\n",
              "  background-color: var(--sklearn-color-unfitted-level-3);\n",
              "  color: var(--sklearn-color-background);\n",
              "  text-decoration: none;\n",
              "}\n",
              "\n",
              "div.sk-estimator.fitted:hover .sk-estimator-doc-link.fitted:hover,\n",
              ".sk-estimator-doc-link.fitted:hover,\n",
              "div.sk-label-container:hover .sk-estimator-doc-link.fitted:hover,\n",
              ".sk-estimator-doc-link.fitted:hover {\n",
              "  /* fitted */\n",
              "  background-color: var(--sklearn-color-fitted-level-3);\n",
              "  color: var(--sklearn-color-background);\n",
              "  text-decoration: none;\n",
              "}\n",
              "\n",
              "/* Span, style for the box shown on hovering the info icon */\n",
              ".sk-estimator-doc-link span {\n",
              "  display: none;\n",
              "  z-index: 9999;\n",
              "  position: relative;\n",
              "  font-weight: normal;\n",
              "  right: .2ex;\n",
              "  padding: .5ex;\n",
              "  margin: .5ex;\n",
              "  width: min-content;\n",
              "  min-width: 20ex;\n",
              "  max-width: 50ex;\n",
              "  color: var(--sklearn-color-text);\n",
              "  box-shadow: 2pt 2pt 4pt #999;\n",
              "  /* unfitted */\n",
              "  background: var(--sklearn-color-unfitted-level-0);\n",
              "  border: .5pt solid var(--sklearn-color-unfitted-level-3);\n",
              "}\n",
              "\n",
              ".sk-estimator-doc-link.fitted span {\n",
              "  /* fitted */\n",
              "  background: var(--sklearn-color-fitted-level-0);\n",
              "  border: var(--sklearn-color-fitted-level-3);\n",
              "}\n",
              "\n",
              ".sk-estimator-doc-link:hover span {\n",
              "  display: block;\n",
              "}\n",
              "\n",
              "/* \"?\"-specific style due to the `<a>` HTML tag */\n",
              "\n",
              "#sk-container-id-1 a.estimator_doc_link {\n",
              "  float: right;\n",
              "  font-size: 1rem;\n",
              "  line-height: 1em;\n",
              "  font-family: monospace;\n",
              "  background-color: var(--sklearn-color-background);\n",
              "  border-radius: 1rem;\n",
              "  height: 1rem;\n",
              "  width: 1rem;\n",
              "  text-decoration: none;\n",
              "  /* unfitted */\n",
              "  color: var(--sklearn-color-unfitted-level-1);\n",
              "  border: var(--sklearn-color-unfitted-level-1) 1pt solid;\n",
              "}\n",
              "\n",
              "#sk-container-id-1 a.estimator_doc_link.fitted {\n",
              "  /* fitted */\n",
              "  border: var(--sklearn-color-fitted-level-1) 1pt solid;\n",
              "  color: var(--sklearn-color-fitted-level-1);\n",
              "}\n",
              "\n",
              "/* On hover */\n",
              "#sk-container-id-1 a.estimator_doc_link:hover {\n",
              "  /* unfitted */\n",
              "  background-color: var(--sklearn-color-unfitted-level-3);\n",
              "  color: var(--sklearn-color-background);\n",
              "  text-decoration: none;\n",
              "}\n",
              "\n",
              "#sk-container-id-1 a.estimator_doc_link.fitted:hover {\n",
              "  /* fitted */\n",
              "  background-color: var(--sklearn-color-fitted-level-3);\n",
              "}\n",
              "</style><div id=\"sk-container-id-1\" class=\"sk-top-container\"><div class=\"sk-text-repr-fallback\"><pre>ExtraTreesRegressor(min_samples_leaf=20, min_samples_split=25, n_estimators=75)</pre><b>In a Jupyter environment, please rerun this cell to show the HTML representation or trust the notebook. <br />On GitHub, the HTML representation is unable to render, please try loading this page with nbviewer.org.</b></div><div class=\"sk-container\" hidden><div class=\"sk-item\"><div class=\"sk-estimator fitted sk-toggleable\"><input class=\"sk-toggleable__control sk-hidden--visually\" id=\"sk-estimator-id-1\" type=\"checkbox\" checked><label for=\"sk-estimator-id-1\" class=\"sk-toggleable__label fitted sk-toggleable__label-arrow fitted\">&nbsp;&nbsp;ExtraTreesRegressor<a class=\"sk-estimator-doc-link fitted\" rel=\"noreferrer\" target=\"_blank\" href=\"https://scikit-learn.org/1.5/modules/generated/sklearn.ensemble.ExtraTreesRegressor.html\">?<span>Documentation for ExtraTreesRegressor</span></a><span class=\"sk-estimator-doc-link fitted\">i<span>Fitted</span></span></label><div class=\"sk-toggleable__content fitted\"><pre>ExtraTreesRegressor(min_samples_leaf=20, min_samples_split=25, n_estimators=75)</pre></div> </div></div></div></div>"
            ],
            "text/plain": [
              "ExtraTreesRegressor(min_samples_leaf=20, min_samples_split=25, n_estimators=75)"
            ]
          },
          "execution_count": 29,
          "metadata": {},
          "output_type": "execute_result"
        }
      ],
      "source": [
        "model.fit(X_train,y_train)"
      ]
    },
    {
      "cell_type": "code",
      "execution_count": 30,
      "metadata": {
        "colab": {
          "base_uri": "https://localhost:8080/"
        },
        "id": "ySRI-u3VoK4z",
        "outputId": "f26607d3-223c-45de-c426-398125f55c3e"
      },
      "outputs": [
        {
          "data": {
            "text/plain": [
              "0.6206503895727296"
            ]
          },
          "execution_count": 30,
          "metadata": {},
          "output_type": "execute_result"
        }
      ],
      "source": [
        "model.score(X_train,y_train)"
      ]
    },
    {
      "cell_type": "code",
      "execution_count": 31,
      "metadata": {
        "colab": {
          "base_uri": "https://localhost:8080/"
        },
        "id": "nApC05NuoTLO",
        "outputId": "ccf25e40-d6e9-4cd7-fd35-f69292b92f2f"
      },
      "outputs": [
        {
          "data": {
            "text/plain": [
              "0.5905596767962102"
            ]
          },
          "execution_count": 31,
          "metadata": {},
          "output_type": "execute_result"
        }
      ],
      "source": [
        "model.score(X_test,y_test)"
      ]
    },
    {
      "cell_type": "markdown",
      "metadata": {
        "id": "zOsAzFxJNbxj"
      },
      "source": [
        "* while hyperparameter turning we came to know that the **default hyperparameters** of the model gives **BEST PERFOMANCE** :)"
      ]
    },
    {
      "cell_type": "markdown",
      "metadata": {
        "id": "pcnJ3sEssBq4"
      },
      "source": [
        "### Save Models and Normalizers"
      ]
    },
    {
      "cell_type": "code",
      "execution_count": 32,
      "metadata": {
        "id": "eAptKyJsq-kQ"
      },
      "outputs": [],
      "source": [
        "import pickle\n",
        "\n",
        "## save model\n",
        "output = open('model.pkl', 'wb')\n",
        "pickle.dump(model, output)\n",
        "output.close()\n",
        "\n",
        "##save normalizer\n",
        "output = open('normalizer.pkl', 'wb')\n",
        "pickle.dump(sc, output)\n",
        "output.close()\n"
      ]
    }
  ],
  "metadata": {
    "accelerator": "GPU",
    "colab": {
      "collapsed_sections": [
        "pcnJ3sEssBq4",
        "egL0bgFzDtb1"
      ],
      "name": "Restaurant Rating Model Selection.ipynb",
      "provenance": []
    },
    "gpuClass": "standard",
    "kernelspec": {
      "display_name": "Python 3",
      "name": "python3"
    },
    "language_info": {
      "codemirror_mode": {
        "name": "ipython",
        "version": 3
      },
      "file_extension": ".py",
      "mimetype": "text/x-python",
      "name": "python",
      "nbconvert_exporter": "python",
      "pygments_lexer": "ipython3",
      "version": "3.12.4"
    }
  },
  "nbformat": 4,
  "nbformat_minor": 0
}
